{
 "cells": [
  {
   "cell_type": "markdown",
   "metadata": {},
   "source": [
    "# Deploying and working with distributed in-memory data structures based on Hazelcast: Distributed Queue/Lock/Topic"
   ]
  },
  {
   "cell_type": "code",
   "execution_count": null,
   "metadata": {},
   "outputs": [],
   "source": [
    "import hazelcast\n",
    "from time import sleep"
   ]
  },
  {
   "cell_type": "code",
   "execution_count": null,
   "metadata": {},
   "outputs": [],
   "source": [
    "config = hazelcast.ClientConfig()\n",
    "config.network_config.addresses.append(\"192.168.1.103:5701\")\n",
    "client = hazelcast.HazelcastClient(config)"
   ]
  },
  {
   "cell_type": "markdown",
   "metadata": {},
   "source": [
    "## 1) Demonstrate work of Distributed Queue\n",
    "http://docs.hazelcast.org/docs/latest/manual/html-single/index.html#queue\n",
    "\n",
    "Writing should be done from one/several nodes, reading -- from others"
   ]
  },
  {
   "cell_type": "code",
   "execution_count": null,
   "metadata": {},
   "outputs": [],
   "source": [
    "queue = client.get_queue(\"my-distribb\").blocking()"
   ]
  },
  {
   "cell_type": "code",
   "execution_count": null,
   "metadata": {},
   "outputs": [],
   "source": [
    "for i in range(10):\n",
    "    queue.put(i)"
   ]
  },
  {
   "cell_type": "code",
   "execution_count": null,
   "metadata": {},
   "outputs": [],
   "source": [
    "while True:\n",
    "    item = queue.take()\n",
    "    print(item, queue.size())\n",
    "    sleep(3)"
   ]
  },
  {
   "cell_type": "code",
   "execution_count": null,
   "metadata": {},
   "outputs": [],
   "source": [
    "print(queue.poll())"
   ]
  },
  {
   "cell_type": "markdown",
   "metadata": {},
   "source": [
    "## 2)  Configure Bounded queue\n",
    "http://docs.hazelcast.org/docs/latest/manual/html-single/index.html#setting-a-bounded-queue\n",
    "\n",
    "Writing should be done from one/several nodes, reading -- from others.\n",
    "Check that adding is blocked when queue is full."
   ]
  },
  {
   "cell_type": "markdown",
   "metadata": {},
   "source": [
    "## 3) Demonstrate work of Distributed Topic\n",
    "http://docs.hazelcast.org/docs/latest/manual/html-single/index.html#topic\n",
    "\n",
    "Writing should be done from one/several nodes, reading -- from others"
   ]
  },
  {
   "cell_type": "code",
   "execution_count": null,
   "metadata": {},
   "outputs": [],
   "source": [
    "import pickle\n",
    "from StringIO import StringIO "
   ]
  },
  {
   "cell_type": "code",
   "execution_count": null,
   "metadata": {},
   "outputs": [],
   "source": [
    "class SerializedClass:\n",
    "    def __init__(self, name):\n",
    "        self.name = name\n",
    "        print(\"Object \" + name + \" created\")\n",
    "        \n",
    "    def write_data(self):\n",
    "        pickle.dumps(self)\n",
    "\n",
    "    def read_data(self):\n",
    "        pickle.loads(self)\n",
    "        \n",
    "    def __str__(self):\n",
    "        print(self.name)"
   ]
  },
  {
   "cell_type": "code",
   "execution_count": null,
   "metadata": {},
   "outputs": [],
   "source": [
    "topic = client.get_topic(\"d_topic\")"
   ]
  },
  {
   "cell_type": "code",
   "execution_count": null,
   "metadata": {},
   "outputs": [],
   "source": [
    "for i in range(100):\n",
    "    obj = SerializedClass(str(i))\n",
    "    topic.publish(obj)\n",
    "    sleep(1)"
   ]
  },
  {
   "cell_type": "code",
   "execution_count": null,
   "metadata": {},
   "outputs": [],
   "source": [
    "def print_message(topic_message):\n",
    "    print(\"From listener 2\", topic_message.message)\n",
    "    \n",
    "topic.add_listener(print_message)"
   ]
  },
  {
   "cell_type": "markdown",
   "metadata": {},
   "source": [
    "## 4) Demonstrate work of Distributed Lock\n",
    "http://docs.hazelcast.org/docs/latest/manual/html-single/index.html#lock"
   ]
  },
  {
   "cell_type": "markdown",
   "metadata": {},
   "source": [
    "## 5) Lock with quorum\n",
    "http://docs.hazelcast.org/docs/latest/manual/html-single/index.html#split-brain-protection-for-lock"
   ]
  },
  {
   "cell_type": "markdown",
   "metadata": {},
   "source": [
    "## 6) Check cluster failover when nodes drop / restore"
   ]
  }
 ],
 "metadata": {
  "kernelspec": {
   "display_name": "Python 2",
   "language": "python",
   "name": "python2"
  },
  "language_info": {
   "codemirror_mode": {
    "name": "ipython",
    "version": 2
   },
   "file_extension": ".py",
   "mimetype": "text/x-python",
   "name": "python",
   "nbconvert_exporter": "python",
   "pygments_lexer": "ipython2",
   "version": "2.7.15rc1"
  }
 },
 "nbformat": 4,
 "nbformat_minor": 2
}
